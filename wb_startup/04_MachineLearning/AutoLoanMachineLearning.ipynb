{
 "cells": [
  {
   "cell_type": "markdown",
   "metadata": {},
   "source": [
    "# Machine Learning using SAS Viya Workbench Python API\n",
    "\n",
    "## Use Case with Auto Loan Prediction of Probability of Default\n",
    "<img align=\"left\" src=\"./data/Auto-Loan-4_sm.jpg\">\n",
    "This example uses SAS's enhanced python APIs. Everything can be replicated using standard python libraries as well. \n",
    "The sasviya python API comes pre-loaded in Workbench.\n",
    "\n",
    "We start by loading some data as a pandas dataframe.\n",
    "This is a ficticious dataset from a financial services group trying to decide whether to reject loan requests for a vehicle loan request.\n",
    "The target variable indicates whether historical customers defaulted on their loan or not.\n",
    "\n",
    "Note that this example is kept relatively simple and by no means includes all steps you would normally take to ensure a quality machine learning model.\n",
    "\n",
    "Reference: https://github.com/sascommunities/sas-viya-workbench-quick-start-tutorials"
   ]
  },
  {
   "cell_type": "markdown",
   "metadata": {},
   "source": [
    "Data import: Workbench is great because the same data can be accessed from both python and SAS\n",
    "1) import from csv\n",
    "2) read SAS data directly\n",
    "3) read from SAS library"
   ]
  },
  {
   "cell_type": "code",
   "execution_count": 1,
   "metadata": {},
   "outputs": [],
   "source": [
    "import os\n",
    "import pandas as pd\n",
    "import numpy as np\n",
    "import saspy\n",
    "\n",
    "#get Workbench workspace variable (Auto-defined on startup)\n",
    "WORKSPACE = os.environ['WORKSPACE']\n",
    "method = 1\n",
    "\n",
    "if method == 1:\n",
    "    #read csv using pandas\n",
    "    df = pd.read_csv(WORKSPACE+\"/github/sas-CA-examples/Data/autoloan.csv\")\n",
    "elif method == 2:\n",
    "    #read sas7bdat using pandas\n",
    "    df = pd.read_sas(WORKSPACE+'/sasfiles/autoloan.sas7bdat')\n",
    "elif method == 3:\n",
    "    #read from sas lib using saspy library\n",
    "    sas = saspy.SASsession()\n",
    "    sas.saslib('sasfiles',path=WORKSPACE+'/sasfiles')\n",
    "    df = sas.sd2df(table='autoloan', libref='sasfiles')\n",
    "    sas.endsas()\n"
   ]
  },
  {
   "cell_type": "markdown",
   "metadata": {},
   "source": [
    "Explore the data a bit"
   ]
  },
  {
   "cell_type": "code",
   "execution_count": 2,
   "metadata": {},
   "outputs": [
    {
     "data": {
      "text/html": [
       "<div>\n",
       "<style scoped>\n",
       "    .dataframe tbody tr th:only-of-type {\n",
       "        vertical-align: middle;\n",
       "    }\n",
       "\n",
       "    .dataframe tbody tr th {\n",
       "        vertical-align: top;\n",
       "    }\n",
       "\n",
       "    .dataframe thead th {\n",
       "        text-align: right;\n",
       "    }\n",
       "</style>\n",
       "<table border=\"1\" class=\"dataframe\">\n",
       "  <thead>\n",
       "    <tr style=\"text-align: right;\">\n",
       "      <th></th>\n",
       "      <th>BAD</th>\n",
       "      <th>LOAN</th>\n",
       "      <th>LOANDUE</th>\n",
       "      <th>VALUE</th>\n",
       "      <th>REASON</th>\n",
       "      <th>JOB</th>\n",
       "      <th>YOJ</th>\n",
       "      <th>DEROG</th>\n",
       "      <th>DELINQ</th>\n",
       "      <th>CLAGE</th>\n",
       "      <th>NINQ</th>\n",
       "      <th>CLNO</th>\n",
       "      <th>DEBTINC</th>\n",
       "      <th>APPDATE</th>\n",
       "      <th>CITY</th>\n",
       "      <th>STATE</th>\n",
       "      <th>DIVISION</th>\n",
       "      <th>REGION</th>\n",
       "    </tr>\n",
       "  </thead>\n",
       "  <tbody>\n",
       "    <tr>\n",
       "      <th>0</th>\n",
       "      <td>1.0</td>\n",
       "      <td>1100.0</td>\n",
       "      <td>2586.0</td>\n",
       "      <td>3902.5</td>\n",
       "      <td>CarImp</td>\n",
       "      <td>Other</td>\n",
       "      <td>10.5</td>\n",
       "      <td>0.0</td>\n",
       "      <td>0.0</td>\n",
       "      <td>94.366667</td>\n",
       "      <td>1.0</td>\n",
       "      <td>9.0</td>\n",
       "      <td>NaN</td>\n",
       "      <td>2020-05-05</td>\n",
       "      <td>oregon</td>\n",
       "      <td>Wisconsin</td>\n",
       "      <td>East North Central</td>\n",
       "      <td>Midwest</td>\n",
       "    </tr>\n",
       "    <tr>\n",
       "      <th>1</th>\n",
       "      <td>1.0</td>\n",
       "      <td>1300.0</td>\n",
       "      <td>7005.3</td>\n",
       "      <td>6840.0</td>\n",
       "      <td>CarImp</td>\n",
       "      <td>Other</td>\n",
       "      <td>7.0</td>\n",
       "      <td>0.0</td>\n",
       "      <td>2.0</td>\n",
       "      <td>121.833333</td>\n",
       "      <td>0.0</td>\n",
       "      <td>14.0</td>\n",
       "      <td>NaN</td>\n",
       "      <td>2020-11-10</td>\n",
       "      <td>churchton</td>\n",
       "      <td>Maryland</td>\n",
       "      <td>South Atlantic</td>\n",
       "      <td>South</td>\n",
       "    </tr>\n",
       "    <tr>\n",
       "      <th>2</th>\n",
       "      <td>1.0</td>\n",
       "      <td>1500.0</td>\n",
       "      <td>1350.0</td>\n",
       "      <td>1670.0</td>\n",
       "      <td>CarImp</td>\n",
       "      <td>Other</td>\n",
       "      <td>4.0</td>\n",
       "      <td>0.0</td>\n",
       "      <td>0.0</td>\n",
       "      <td>149.466667</td>\n",
       "      <td>1.0</td>\n",
       "      <td>10.0</td>\n",
       "      <td>NaN</td>\n",
       "      <td>2018-07-31</td>\n",
       "      <td>orcas</td>\n",
       "      <td>Washington</td>\n",
       "      <td>Pacific</td>\n",
       "      <td>West</td>\n",
       "    </tr>\n",
       "    <tr>\n",
       "      <th>3</th>\n",
       "      <td>1.0</td>\n",
       "      <td>1500.0</td>\n",
       "      <td>NaN</td>\n",
       "      <td>NaN</td>\n",
       "      <td>NaN</td>\n",
       "      <td>NaN</td>\n",
       "      <td>NaN</td>\n",
       "      <td>NaN</td>\n",
       "      <td>NaN</td>\n",
       "      <td>NaN</td>\n",
       "      <td>NaN</td>\n",
       "      <td>NaN</td>\n",
       "      <td>NaN</td>\n",
       "      <td>2020-10-25</td>\n",
       "      <td>hastings</td>\n",
       "      <td>Florida</td>\n",
       "      <td>South Atlantic</td>\n",
       "      <td>South</td>\n",
       "    </tr>\n",
       "    <tr>\n",
       "      <th>4</th>\n",
       "      <td>0.0</td>\n",
       "      <td>1700.0</td>\n",
       "      <td>9780.0</td>\n",
       "      <td>11200.0</td>\n",
       "      <td>CarImp</td>\n",
       "      <td>Office</td>\n",
       "      <td>3.0</td>\n",
       "      <td>0.0</td>\n",
       "      <td>0.0</td>\n",
       "      <td>93.333333</td>\n",
       "      <td>0.0</td>\n",
       "      <td>14.0</td>\n",
       "      <td>NaN</td>\n",
       "      <td>2021-02-18</td>\n",
       "      <td>wilmington</td>\n",
       "      <td>California</td>\n",
       "      <td>Pacific</td>\n",
       "      <td>West</td>\n",
       "    </tr>\n",
       "  </tbody>\n",
       "</table>\n",
       "</div>"
      ],
      "text/plain": [
       "   BAD    LOAN  LOANDUE    VALUE  REASON     JOB   YOJ  DEROG  DELINQ  \\\n",
       "0  1.0  1100.0   2586.0   3902.5  CarImp   Other  10.5    0.0     0.0   \n",
       "1  1.0  1300.0   7005.3   6840.0  CarImp   Other   7.0    0.0     2.0   \n",
       "2  1.0  1500.0   1350.0   1670.0  CarImp   Other   4.0    0.0     0.0   \n",
       "3  1.0  1500.0      NaN      NaN     NaN     NaN   NaN    NaN     NaN   \n",
       "4  0.0  1700.0   9780.0  11200.0  CarImp  Office   3.0    0.0     0.0   \n",
       "\n",
       "        CLAGE  NINQ  CLNO  DEBTINC     APPDATE        CITY       STATE  \\\n",
       "0   94.366667   1.0   9.0      NaN  2020-05-05      oregon   Wisconsin   \n",
       "1  121.833333   0.0  14.0      NaN  2020-11-10   churchton    Maryland   \n",
       "2  149.466667   1.0  10.0      NaN  2018-07-31       orcas  Washington   \n",
       "3         NaN   NaN   NaN      NaN  2020-10-25    hastings     Florida   \n",
       "4   93.333333   0.0  14.0      NaN  2021-02-18  wilmington  California   \n",
       "\n",
       "             DIVISION   REGION  \n",
       "0  East North Central  Midwest  \n",
       "1      South Atlantic    South  \n",
       "2             Pacific     West  \n",
       "3      South Atlantic    South  \n",
       "4             Pacific     West  "
      ]
     },
     "execution_count": 2,
     "metadata": {},
     "output_type": "execute_result"
    }
   ],
   "source": [
    "df.head()"
   ]
  },
  {
   "cell_type": "markdown",
   "metadata": {},
   "source": [
    "Let's look at the the target variable. How many are BAD?"
   ]
  },
  {
   "cell_type": "code",
   "execution_count": 3,
   "metadata": {},
   "outputs": [
    {
     "name": "stdout",
     "output_type": "stream",
     "text": [
      "   BAD  count    Percent\n",
      "0  0.0   4771  80.050336\n",
      "1  1.0   1189  19.949664\n"
     ]
    }
   ],
   "source": [
    "freq  = df['BAD'].value_counts().to_frame().reset_index()\n",
    "freq['Percent'] = df['BAD'].value_counts(normalize=True)*100\n",
    "print(freq)\n"
   ]
  },
  {
   "cell_type": "markdown",
   "metadata": {},
   "source": [
    "We see our target is a binary variable, as expected (BAD stands for Binary Applicant Default)\n",
    "\n",
    "Approximately 20% of our data points indicate a default (BAD = 1)."
   ]
  },
  {
   "cell_type": "code",
   "execution_count": 4,
   "metadata": {},
   "outputs": [
    {
     "data": {
      "text/plain": [
       "<Axes: ylabel='Frequency'>"
      ]
     },
     "execution_count": 4,
     "metadata": {},
     "output_type": "execute_result"
    },
    {
     "data": {
      "image/png": "[encoded data removed]",
      "text/plain": [
       "<Figure size 640x480 with 1 Axes>"
      ]
     },
     "metadata": {},
     "output_type": "display_data"
    }
   ],
   "source": [
    "#plot a histogram of the original loan values\n",
    "df['VALUE'].plot.hist(bins=12)"
   ]
  },
  {
   "cell_type": "markdown",
   "metadata": {},
   "source": [
    "## Data Preprocessing\n",
    "\n",
    "We must perform some data preprocessing to prepare this data for machine learning:\n",
    "\n",
    "- A partition must be created to separate training and validation data\n",
    "- Missing values must be imputed\n",
    "- Useful input variables must be selected (the target is BAD)"
   ]
  },
  {
   "cell_type": "markdown",
   "metadata": {},
   "source": [
    "### Partition"
   ]
  },
  {
   "cell_type": "code",
   "execution_count": 5,
   "metadata": {},
   "outputs": [
    {
     "name": "stdout",
     "output_type": "stream",
     "text": [
      "Training data shape: (4172, 17) \n",
      "Validation data shape: (1788, 17)\n"
     ]
    }
   ],
   "source": [
    "#We use sklearn to partition the data into training and validation data\n",
    "from sklearn.model_selection import train_test_split\n",
    "\n",
    "X = df.drop('BAD', axis=1)\n",
    "y = df['BAD']\n",
    "X_train, X_valid, y_train, y_valid = train_test_split(X, y, test_size=0.3, stratify=y, random_state=919)\n",
    "\n",
    "print(\"Training data shape:\", X_train.shape, \"\\n\" + \"Validation data shape:\", X_valid.shape)"
   ]
  },
  {
   "cell_type": "markdown",
   "metadata": {},
   "source": [
    "### Impute missing values"
   ]
  },
  {
   "cell_type": "code",
   "execution_count": 6,
   "metadata": {},
   "outputs": [
    {
     "name": "stdout",
     "output_type": "stream",
     "text": [
      "Training data shape: (4172, 17) \n",
      "Validation data shape: (1788, 17)\n"
     ]
    }
   ],
   "source": [
    "#We use sklearn to impute missing values (using the median/mode from the training data to impute the validation data)\n",
    "from sklearn.impute import SimpleImputer\n",
    "import numpy as np\n",
    "\n",
    "#Calculate the median and mode on the training data to prepare the imputer\n",
    "imp_interval = SimpleImputer(missing_values=np.nan, strategy='median')\n",
    "imp_interval.set_output(transform='pandas')\n",
    "imp_interval = imp_interval.fit(X_train.select_dtypes(include='number'))\n",
    "\n",
    "imp_nominal = SimpleImputer(missing_values=np.nan, strategy='most_frequent')\n",
    "imp_nominal.set_output(transform='pandas')\n",
    "imp_nominal = imp_nominal.fit(X_train.select_dtypes(include='object'))\n",
    "\n",
    "#Apply the imputation to the training data\n",
    "X_train_imp_int = imp_interval.transform(X_train.select_dtypes(include='number'))\n",
    "X_train_imp_nom = imp_nominal.transform(X_train.select_dtypes(include='object'))\n",
    "\n",
    "X_train_imp = pd.concat([X_train_imp_int, X_train_imp_nom], axis=1)\n",
    "\n",
    "#Apply the imputation to the validation data\n",
    "X_valid_imp_int = imp_interval.transform(X_valid.select_dtypes(include='number'))\n",
    "X_valid_imp_nom = imp_nominal.transform(X_valid.select_dtypes(include='object'))\n",
    "\n",
    "X_valid_imp = pd.concat([X_valid_imp_int, X_valid_imp_nom], axis=1)\n",
    "\n",
    "print(\"Training data shape:\", X_train_imp.shape, \"\\n\" + \"Validation data shape:\", X_valid_imp.shape)"
   ]
  },
  {
   "cell_type": "markdown",
   "metadata": {},
   "source": [
    "### Downselect input variables"
   ]
  },
  {
   "cell_type": "code",
   "execution_count": 7,
   "metadata": {},
   "outputs": [
    {
     "name": "stdout",
     "output_type": "stream",
     "text": [
      "Training data shape: (4172, 15) \n",
      "Validation data shape: (1788, 15)\n",
      "Selected interval features: ['LOAN' 'LOANDUE' 'VALUE' 'DEROG' 'DELINQ' 'CLAGE' 'NINQ' 'DEBTINC']\n",
      "Selected nominal features: ['REASON', 'JOB', 'APPDATE', 'CITY', 'STATE', 'DIVISION', 'REGION']\n"
     ]
    }
   ],
   "source": [
    "#Select useful input variables using chi-square test\n",
    "from sklearn.feature_selection import SelectKBest, chi2\n",
    "\n",
    "#Sklearn requires nominal variables to be dummy coded, for now let's skips this and just select from the interval variables\n",
    "\n",
    "#Select variables based on the training data\n",
    "selector = SelectKBest(chi2, k=8).fit(X_train_imp_int, y_train)\n",
    "selector.set_output(transform=\"pandas\")\n",
    "\n",
    "#Apply the selection to the training and validation data\n",
    "train_selected = selector.transform(X_train_imp_int)\n",
    "valid_selected = selector.transform(X_valid_imp_int)\n",
    "\n",
    "X_train_final = pd.concat([train_selected, X_train_imp_nom], axis=1)\n",
    "X_valid_final = pd.concat([valid_selected, X_valid_imp_nom], axis=1)\n",
    "\n",
    "print(\"Training data shape:\", X_train_final.shape, \"\\n\" + \"Validation data shape:\", X_valid_final.shape)\n",
    "\n",
    "print(\"Selected interval features:\", selector.get_feature_names_out())\n",
    "print(\"Selected nominal features:\", list(X_train_imp_nom.columns))"
   ]
  },
  {
   "cell_type": "markdown",
   "metadata": {},
   "source": [
    "## Machine Learning \n",
    "\n",
    "Now that we have a list of relevant input variables (and have identified which are nominal and which are interval) we are ready to start building machine learning models using SAS' sasviya python APIs. This could be reproduced using python's sklearn package as well. We will do this in 3 basic steps:\n",
    "1. Fit\n",
    "2. Score\n",
    "3. Assess\n",
    "\n",
    "We will build 5 different models:\n",
    "- Simple Logistic Regression\n",
    "- Decision Tree\n",
    "- Random Forest\n",
    "- Tree-based Gradient Boosting\n",
    "- Support Vector Machine"
   ]
  },
  {
   "cell_type": "markdown",
   "metadata": {},
   "source": [
    "### Step 1 - Fit models"
   ]
  },
  {
   "cell_type": "code",
   "execution_count": null,
   "metadata": {},
   "outputs": [],
   "source": [
    "#fit a simple logistic regression model\n",
    "#NOTE - this is using standard sklearn library and will fail because skelarn can't handle strings                              \n",
    "from sklearn.linear_model import LogisticRegression\n",
    "\n",
    "logreg = LogisticRegression(solver='lbfgs',\n",
    "                        tol=1e-4,\n",
    "                        max_iter=1000)\n",
    "\n",
    "logreg.fit(X_train_final, y_train)"
   ]
  },
  {
   "cell_type": "code",
   "execution_count": null,
   "metadata": {},
   "outputs": [
    {
     "data": {
      "text/plain": [
       "LogisticRegression(tol=0.0001, solver=\"lbfgs\", max_iter=1000)"
      ]
     },
     "execution_count": 9,
     "metadata": {},
     "output_type": "execute_result"
    }
   ],
   "source": [
    "#fit a simple logistic regression model\n",
    "#NOTE - sasviya.ml automatically handles string variables without error\n",
    "from sasviya.ml.linear_model import LogisticRegression\n",
    "\n",
    "logreg = LogisticRegression(solver='lbfgs',\n",
    "                        tol=1e-4,\n",
    "                        max_iter=1000)\n",
    "\n",
    "logreg.fit(X_train_final, y_train)"
   ]
  },
  {
   "cell_type": "code",
   "execution_count": 10,
   "metadata": {},
   "outputs": [
    {
     "data": {
      "text/plain": [
       "DecisionTreeClassifier(criterion=\"chisquare\")"
      ]
     },
     "execution_count": 10,
     "metadata": {},
     "output_type": "execute_result"
    }
   ],
   "source": [
    "#fit a decision tree model\n",
    "from sasviya.ml.tree import DecisionTreeClassifier\n",
    "\n",
    "dtree = DecisionTreeClassifier(criterion=\"chisquare\",\n",
    "                               max_depth=10,\n",
    "                               ccp_alpha=0)\n",
    "\n",
    "dtree.fit(X_train_final, y_train)"
   ]
  },
  {
   "cell_type": "code",
   "execution_count": 11,
   "metadata": {},
   "outputs": [
    {
     "data": {
      "text/plain": [
       "ForestClassifier(criterion=\"chisquare\", max_depth=7, random_state=919)"
      ]
     },
     "execution_count": 11,
     "metadata": {},
     "output_type": "execute_result"
    }
   ],
   "source": [
    "#fit a random forest model\n",
    "from sasviya.ml.tree import ForestClassifier\n",
    "\n",
    "forest = ForestClassifier(criterion=\"chisquare\",\n",
    "                          n_estimators=100,\n",
    "                          bootstrap=0.6,\n",
    "                          max_depth=7,\n",
    "                          min_samples_leaf=5,\n",
    "                          random_state=919)\n",
    "\n",
    "forest.fit(X_train_final, y_train)"
   ]
  },
  {
   "cell_type": "code",
   "execution_count": 12,
   "metadata": {},
   "outputs": [
    {
     "data": {
      "text/plain": [
       "GradientBoostingClassifier(subsample=0.8, random_state=919)"
      ]
     },
     "execution_count": 12,
     "metadata": {},
     "output_type": "execute_result"
    }
   ],
   "source": [
    "#fit a tree-based gradient boosting model\n",
    "from sasviya.ml.tree import GradientBoostingClassifier\n",
    "\n",
    "gradboost = GradientBoostingClassifier(n_estimators=100,\n",
    "                                       max_depth=4,\n",
    "                                       min_samples_leaf=5,\n",
    "                                       learning_rate=0.1,\n",
    "                                       subsample=0.8,\n",
    "                                       random_state=919)\n",
    "\n",
    "gradboost.fit(X_train_final, y_train)"
   ]
  },
  {
   "cell_type": "code",
   "execution_count": 13,
   "metadata": {},
   "outputs": [
    {
     "data": {
      "text/plain": [
       "SVC(kernel=\"rbf\")"
      ]
     },
     "execution_count": 13,
     "metadata": {},
     "output_type": "execute_result"
    }
   ],
   "source": [
    "#fit a support vector machine classifier\n",
    "from sasviya.ml.svm import SVC\n",
    "\n",
    "svm = SVC(C=1.0,\n",
    "          kernel=\"rbf\")\n",
    "\n",
    "svm.fit(X_train_final, y_train)"
   ]
  },
  {
   "cell_type": "markdown",
   "metadata": {},
   "source": [
    "### Step 2 - Score fitted models against training and validation data sets"
   ]
  },
  {
   "cell_type": "code",
   "execution_count": 17,
   "metadata": {},
   "outputs": [],
   "source": [
    "#score training and validation data using the fitted models (we can assess them separately after this)\n",
    "models = ['logreg', 'dtree','forest','gradboost','svm']\n",
    "train_out = dict.fromkeys(models, None)\n",
    "valid_out = dict.fromkeys(models, None)\n",
    "\n",
    "#score the training and validation data using the models, and join the predictions to the target\n",
    "for model in models:\n",
    "    train_out[model] = eval(model).predict_proba(X_train_final)\n",
    "    train_out[model] = train_out[model].join(y_train)\n",
    "\n",
    "    valid_out[model] = eval(model).predict_proba(X_valid_final)\n",
    "    valid_out[model] = valid_out[model].join(y_valid)"
   ]
  },
  {
   "cell_type": "markdown",
   "metadata": {},
   "source": [
    "### Step 3 - Assess model performance against validation data"
   ]
  },
  {
   "cell_type": "code",
   "execution_count": 18,
   "metadata": {},
   "outputs": [
    {
     "data": {
      "text/plain": [
       "Text(0, 0.5, 'True Positive Rate')"
      ]
     },
     "execution_count": 18,
     "metadata": {},
     "output_type": "execute_result"
    },
    {
     "data": {
      "image/png": "[encoded data removed]",
      "text/plain": [
       "<Figure size 1000x800 with 1 Axes>"
      ]
     },
     "metadata": {},
     "output_type": "display_data"
    },
    {
     "data": {
      "image/png": "[encoded data removed]",
      "text/plain": [
       "<Figure size 1000x800 with 1 Axes>"
      ]
     },
     "metadata": {},
     "output_type": "display_data"
    }
   ],
   "source": [
    "#plot ROC\n",
    "from sklearn.metrics import roc_curve\n",
    "from matplotlib import pyplot as plt\n",
    "\n",
    "train_roc = dict.fromkeys(models, None)\n",
    "valid_roc = dict.fromkeys(models, None)\n",
    "\n",
    "plt.figure(figsize=(10,8))\n",
    "plt.xlabel('False Positive Rate')\n",
    "plt.ylabel('True Positive Rate')\n",
    "\n",
    "plt.title('ROC Curve for Training Data')\n",
    "for model in models:\n",
    "    train_roc[model] = roc_curve(train_out[model]['BAD'], train_out[model]['P_BAD1'], pos_label=1)\n",
    "    plt.plot(train_roc[model][0], train_roc[model][1])\n",
    "plt.legend(models)\n",
    "\n",
    "plt.figure(figsize=(10,8))\n",
    "plt.xlabel('False Positive Rate')\n",
    "plt.ylabel('True Positive Rate')\n",
    "\n",
    "#plt.title('ROC Curve for Validation Data')\n",
    "#for model in models:\n",
    "#    valid_roc[model] = roc_curve(valid_out[model]['BAD'], valid_out[model]['P_BAD1'], pos_label=1)\n",
    "#    plt.plot(valid_roc[model][0], valid_roc[model][1])\n",
    "#plt.legend(models);"
   ]
  },
  {
   "cell_type": "markdown",
   "metadata": {},
   "source": [
    "The gradient boosting and random forest models appear to have both performed the best on the validation data. Let's print out the misclassificaiton rate of both. "
   ]
  },
  {
   "cell_type": "code",
   "execution_count": 19,
   "metadata": {},
   "outputs": [
    {
     "name": "stdout",
     "output_type": "stream",
     "text": [
      "Misclassification Rate on Validation Data for Gradient Boosting at 0.5 cutoff: 0.09731543624161076\n",
      "Misclassification Rate on Validation Data for Random Forest at 0.5 cutoff: 0.12583892617449666\n"
     ]
    }
   ],
   "source": [
    "#Calculate misclassification for 'champion' model on validation data\n",
    "from sklearn.metrics import accuracy_score\n",
    "\n",
    "cutoff = 0.5\n",
    "valid_preds = [1 if valid_out['gradboost']['P_BAD1'][elem] > cutoff else 0 for elem in valid_out['gradboost'].index]\n",
    "\n",
    "print('Misclassification Rate on Validation Data for Gradient Boosting at',cutoff,'cutoff:', 1-accuracy_score(valid_out['gradboost']['BAD'], valid_preds))\n",
    "\n",
    "valid_preds = [1 if valid_out['forest']['P_BAD1'][elem] > cutoff else 0 for elem in valid_out['forest'].index]\n",
    "\n",
    "print('Misclassification Rate on Validation Data for Random Forest at',cutoff,'cutoff:', 1-accuracy_score(valid_out['gradboost']['BAD'], valid_preds))"
   ]
  },
  {
   "cell_type": "markdown",
   "metadata": {},
   "source": [
    "The gradient boosting model performs better in terms of misclassification rate. \n"
   ]
  },
  {
   "cell_type": "markdown",
   "metadata": {},
   "source": [
    "# Model Registration"
   ]
  },
  {
   "cell_type": "code",
   "execution_count": 2,
   "metadata": {},
   "outputs": [],
   "source": [
    "from sasctl import pzmm\n",
    "from sasctl import Session\n",
    "from sasctl.services import model_repository as mr, model_management as mm\n",
    "from pathlib import Path\n",
    "import requests\n",
    "import os"
   ]
  },
  {
   "cell_type": "code",
   "execution_count": 3,
   "metadata": {},
   "outputs": [],
   "source": [
    "## get access token for viya env using refresh token. change to your own viya server and preferred authentication method.\n",
    "url = \"https://innovationlab.demo.sas.com\"\n",
    "\n",
    "access_token = ''"
   ]
  },
  {
   "cell_type": "code",
   "execution_count": 4,
   "metadata": {},
   "outputs": [
    {
     "data": {
      "text/plain": [
       "<sasctl.core.Session at 0x7f1ce9a42fd0>"
      ]
     },
     "execution_count": 4,
     "metadata": {},
     "output_type": "execute_result"
    }
   ],
   "source": [
    "st = Session(url, token=access_token, verify_ssl=False)\n",
    "st\n"
   ]
  },
  {
   "cell_type": "code",
   "execution_count": 5,
   "metadata": {},
   "outputs": [
    {
     "name": "stderr",
     "output_type": "stream",
     "text": [
      "/usr/local/lib/python3.11/site-packages/urllib3/connectionpool.py:1103: InsecureRequestWarning: Unverified HTTPS request is being made to host 'innovationlab.demo.sas.com'. Adding certificate verification is strongly advised. See: https://urllib3.readthedocs.io/en/latest/advanced-usage.html#tls-warnings\n",
      "  warnings.warn(\n"
     ]
    },
    {
     "data": {
      "text/plain": [
       "'DMRepository'"
      ]
     },
     "execution_count": 5,
     "metadata": {},
     "output_type": "execute_result"
    }
   ],
   "source": [
    "repository = mr.get_repository('DMRepository')\n",
    "repository.name\n",
    "\n"
   ]
  },
  {
   "cell_type": "code",
   "execution_count": 6,
   "metadata": {},
   "outputs": [
    {
     "name": "stderr",
     "output_type": "stream",
     "text": [
      "/workspaces/myfolder/.user-python-packages/lib/python3.11/site-packages/sasctl/_services/service.py:270: UserWarning: Multiple items found with name 'workbench_project'.  Only the first result is returned.\n",
      "  warnings.warn(\n"
     ]
    }
   ],
   "source": [
    "project_name = 'workbench_project'\n",
    "model_name = 'gradboost_py'\n",
    "\n",
    "project = mr.get_project(project_name)"
   ]
  },
  {
   "cell_type": "code",
   "execution_count": 7,
   "metadata": {},
   "outputs": [],
   "source": [
    "def register_model(model_name, model, project):\n",
    "    model_params = {\n",
    "        \"name\": model_name,\n",
    "        \"projectId\": project.id,\n",
    "        \"type\": \"ASTORE\",\n",
    "    }\n",
    "    astore = mr.post(\n",
    "        \"/models\",\n",
    "        files={\"files\": (f\"{model_name}.astore\", model.export())},\n",
    "        data=model_params,\n",
    "    )"
   ]
  }
 ],
 "metadata": {
  "kernelspec": {
   "display_name": "Python 3",
   "language": "python",
   "name": "python3"
  },
  "language_info": {
   "codemirror_mode": {
    "name": "ipython",
    "version": 3
   },
   "file_extension": ".py",
   "mimetype": "text/x-python",
   "name": "python",
   "nbconvert_exporter": "python",
   "pygments_lexer": "ipython3",
   "version": "3.11.11"
  }
 },
 "nbformat": 4,
 "nbformat_minor": 2
}
